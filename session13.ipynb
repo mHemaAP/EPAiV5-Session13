{
 "cells": [
  {
   "cell_type": "code",
   "execution_count": 1,
   "metadata": {},
   "outputs": [],
   "source": [
    "import csv\n",
    "from collections import namedtuple\n",
    "from contextlib import contextmanager\n",
    "import re"
   ]
  },
  {
   "cell_type": "markdown",
   "metadata": {},
   "source": [
    "## Part-1: Context Manager + Generator - Using Custom Class"
   ]
  },
  {
   "cell_type": "code",
   "execution_count": 2,
   "metadata": {},
   "outputs": [],
   "source": [
    "class CSVReader:\n",
    "    ''' Reads the CSV file, generates a \"Generator\" where data is parses in named tuple\n",
    "    '''\n",
    "    def __init__(self, filename: str, mode: str='r', separator: str=','):\n",
    "        ''' Initializes the class with properties required for reading the file\n",
    "        \n",
    "        Parameters:\n",
    "        ----------\n",
    "        file_name:  File Name in STRING, which to be read\n",
    "        mode:       'r' for read, 'w' for write and 'a' for append. Although only 'r' is supported\n",
    "        separator:  Seperator which seperates the data in each row. Generally it will be ',' \n",
    "                    but it can be any charecter\n",
    "        \n",
    "        '''\n",
    "        if mode not in ['r']:\n",
    "            raise ValueError(f\"Mode {mode} is not supported. Only 'r' (read) mode is allowed.\")\n",
    "        \n",
    "        self._filename = filename\n",
    "        self._mode = mode\n",
    "        self._separator = separator\n",
    "        # Header of the CSV file is saved in this list. It is assumed that only one \n",
    "        # line of header is present in the CSV file    \n",
    "        self._fd = None\n",
    "        self._header = []\n",
    "        self._row_data = None\n",
    "\n",
    "    def __enter__(self):\n",
    "        ''' When enter the context, read the first line (which is header) and return the object\n",
    "        '''\n",
    "        try:\n",
    "            self._fd = open(self._filename, self._mode, newline='', encoding='utf-8')\n",
    "            self._csv_reader = csv.reader(self._fd, delimiter=self._separator)\n",
    "            self._header = next(self._csv_reader)  # Read the header row\n",
    "            \n",
    "            # Sanitize the headers to be valid Python identifiers\n",
    "            self._header = [re.sub(r'\\W|^(?=\\d)', '_', h) for h in self._header]\n",
    "            \n",
    "            self._row_data = namedtuple('row_data', self._header)\n",
    "            return self\n",
    "\n",
    "        except IOError as e:\n",
    "            print(f\"Error opening file: {e}\")\n",
    "            raise        \n",
    "\n",
    "    def __iter__(self):\n",
    "        ''' Iterator for the loop \n",
    "        '''\n",
    "        return self\n",
    "\n",
    "    def __next__(self):\n",
    "        ''' To fetch the next time. Each row is fetched and then new line charecter is stripped\n",
    "        and each row is then split according to \"seperator\" which was sending during construction \n",
    "        of the object \n",
    "        '''\n",
    "        # Return the next row as a named tuple\n",
    "        try:\n",
    "            row = next(self._csv_reader)\n",
    "            return self._row_data(*row)\n",
    "        except StopIteration:\n",
    "            raise StopIteration\n",
    "\n",
    "    def __exit__(self, exc_type, exc_value, traceback):\n",
    "        ''' Upon exiting the context close the file and display any error/exception occurred. \n",
    "        if exception has occured then stop the excecution of the code\n",
    "        '''\n",
    "        self._fd.close()\n",
    "        if exc_type:\n",
    "            print(f\"Exception {exc_type} occurred: {exc_value}\")\n",
    "            \n",
    "        if self._fd.closed:\n",
    "            print(\"File closed properly\")\n",
    "        else:\n",
    "            print(\"File did not close properly.\")\n",
    "        return False"
   ]
  },
  {
   "cell_type": "markdown",
   "metadata": {},
   "source": [
    "### Open person_info.csv and display first 10 rows"
   ]
  },
  {
   "cell_type": "code",
   "execution_count": 3,
   "metadata": {},
   "outputs": [
    {
     "name": "stdout",
     "output_type": "stream",
     "text": [
      "['ssn', 'first_name', 'last_name', 'gender', 'language']\n",
      "row_data(ssn='100-53-9824', first_name='Sebastiano', last_name='Tester', gender='Male', language='Icelandic')\n",
      "row_data(ssn='101-71-4702', first_name='Cayla', last_name='MacDonagh', gender='Female', language='Lao')\n",
      "row_data(ssn='101-84-0356', first_name='Nomi', last_name='Lipprose', gender='Female', language='Yiddish')\n",
      "row_data(ssn='104-22-0928', first_name='Justinian', last_name='Kunzelmann', gender='Male', language='Dhivehi')\n",
      "row_data(ssn='104-84-7144', first_name='Claudianus', last_name='Brixey', gender='Male', language='Afrikaans')\n",
      "row_data(ssn='105-27-5541', first_name='Federico', last_name='Aggett', gender='Male', language='Chinese')\n",
      "row_data(ssn='105-85-7486', first_name='Angelina', last_name='McAvey', gender='Female', language='Punjabi')\n",
      "row_data(ssn='105-91-5022', first_name='Moselle', last_name='Apfel', gender='Female', language='Latvian')\n",
      "row_data(ssn='105-91-7777', first_name='Audi', last_name='Roach', gender='Female', language='Estonian')\n",
      "row_data(ssn='106-35-1938', first_name='Mackenzie', last_name='Nussey', gender='Male', language='Swedish')\n",
      "row_data(ssn='106-36-3293', first_name='Martino', last_name='Tregoning', gender='Male', language='Tok Pisin')\n",
      "File closed properly\n"
     ]
    }
   ],
   "source": [
    "# Read CSV and display rows\n",
    "display_row_count = 0\n",
    "with CSVReader('personal_info.csv', mode='r', separator=',') as csv_reader:\n",
    "    print(csv_reader._header)\n",
    "    for row in csv_reader:\n",
    "        print(row)\n",
    "        display_row_count += 1\n",
    "        if (display_row_count > 10):\n",
    "            break"
   ]
  },
  {
   "cell_type": "markdown",
   "metadata": {},
   "source": [
    "### Open cars-2.csv and display first 10 rows"
   ]
  },
  {
   "cell_type": "code",
   "execution_count": 4,
   "metadata": {},
   "outputs": [
    {
     "name": "stdout",
     "output_type": "stream",
     "text": [
      "['Car', 'MPG', 'Cylinders', 'Displacement', 'Horsepower', 'Weight', 'Acceleration', 'Model', 'Origin']\n",
      "row_data(Car='Chevrolet Chevelle Malibu', MPG='18.0', Cylinders='8', Displacement='307.0', Horsepower='130.0', Weight='3504.', Acceleration='12.0', Model='70', Origin='US')\n",
      "row_data(Car='Buick Skylark 320', MPG='15.0', Cylinders='8', Displacement='350.0', Horsepower='165.0', Weight='3693.', Acceleration='11.5', Model='70', Origin='US')\n",
      "row_data(Car='Plymouth Satellite', MPG='18.0', Cylinders='8', Displacement='318.0', Horsepower='150.0', Weight='3436.', Acceleration='11.0', Model='70', Origin='US')\n",
      "row_data(Car='AMC Rebel SST', MPG='16.0', Cylinders='8', Displacement='304.0', Horsepower='150.0', Weight='3433.', Acceleration='12.0', Model='70', Origin='US')\n",
      "row_data(Car='Ford Torino', MPG='17.0', Cylinders='8', Displacement='302.0', Horsepower='140.0', Weight='3449.', Acceleration='10.5', Model='70', Origin='US')\n",
      "row_data(Car='Ford Galaxie 500', MPG='15.0', Cylinders='8', Displacement='429.0', Horsepower='198.0', Weight='4341.', Acceleration='10.0', Model='70', Origin='US')\n",
      "row_data(Car='Chevrolet Impala', MPG='14.0', Cylinders='8', Displacement='454.0', Horsepower='220.0', Weight='4354.', Acceleration='9.0', Model='70', Origin='US')\n",
      "row_data(Car='Plymouth Fury iii', MPG='14.0', Cylinders='8', Displacement='440.0', Horsepower='215.0', Weight='4312.', Acceleration='8.5', Model='70', Origin='US')\n",
      "row_data(Car='Pontiac Catalina', MPG='14.0', Cylinders='8', Displacement='455.0', Horsepower='225.0', Weight='4425.', Acceleration='10.0', Model='70', Origin='US')\n",
      "row_data(Car='AMC Ambassador DPL', MPG='15.0', Cylinders='8', Displacement='390.0', Horsepower='190.0', Weight='3850.', Acceleration='8.5', Model='70', Origin='US')\n",
      "row_data(Car='Citroen DS-21 Pallas', MPG='0', Cylinders='4', Displacement='133.0', Horsepower='115.0', Weight='3090.', Acceleration='17.5', Model='70', Origin='Europe')\n",
      "File closed properly\n"
     ]
    }
   ],
   "source": [
    "# Read CSV and display rows\n",
    "display_row_count = 0\n",
    "with CSVReader('cars-2.csv', mode='r', separator=';') as csv_reader:\n",
    "    print(csv_reader._header)\n",
    "    for row in csv_reader:\n",
    "        print(row)\n",
    "        display_row_count += 1\n",
    "        if (display_row_count > 10):\n",
    "            break"
   ]
  },
  {
   "cell_type": "markdown",
   "metadata": {},
   "source": [
    "## Part-2: Context Manager + Generator - Using Built-in contextmanager Decorator"
   ]
  },
  {
   "cell_type": "code",
   "execution_count": 5,
   "metadata": {},
   "outputs": [],
   "source": [
    "@contextmanager\n",
    "def csv_reader_generator(filename :str, mode :str = 'r', separator :str= ','):\n",
    "    ''' Function helps in creating the \"Generator\" by reading a csv file\n",
    "    '''\n",
    "    print(f\"Opening the file {filename} in {mode} mode...\")\n",
    "\n",
    "    try:\n",
    "        fd = open(filename, mode)\n",
    "        csv_reader = csv.reader(fd, delimiter=separator)\n",
    "        header = next(csv_reader)  # Read the header row\n",
    "        \n",
    "        # Sanitize the header to be valid Python identifiers\n",
    "        header = [re.sub(r'\\W|^(?=\\d)', '_', h) for h in header]\n",
    "        print(\"Header:\", header)        \n",
    "\n",
    "        # Yielding a generator (lazy iterator)\n",
    "        yield (csv_reader)\n",
    "    except FileNotFoundError:\n",
    "        print(\"No such file exists in this path\")\n",
    "    finally:\n",
    "        fd.close()"
   ]
  },
  {
   "cell_type": "code",
   "execution_count": 6,
   "metadata": {},
   "outputs": [
    {
     "name": "stdout",
     "output_type": "stream",
     "text": [
      "Opening the file personal_info.csv in r mode...\n",
      "Header: ['ssn', 'first_name', 'last_name', 'gender', 'language']\n",
      "['100-53-9824', 'Sebastiano', 'Tester', 'Male', 'Icelandic']\n",
      "['101-71-4702', 'Cayla', 'MacDonagh', 'Female', 'Lao']\n",
      "['101-84-0356', 'Nomi', 'Lipprose', 'Female', 'Yiddish']\n",
      "['104-22-0928', 'Justinian', 'Kunzelmann', 'Male', 'Dhivehi']\n",
      "['104-84-7144', 'Claudianus', 'Brixey', 'Male', 'Afrikaans']\n",
      "['105-27-5541', 'Federico', 'Aggett', 'Male', 'Chinese']\n",
      "['105-85-7486', 'Angelina', 'McAvey', 'Female', 'Punjabi']\n",
      "['105-91-5022', 'Moselle', 'Apfel', 'Female', 'Latvian']\n",
      "['105-91-7777', 'Audi', 'Roach', 'Female', 'Estonian']\n",
      "['106-35-1938', 'Mackenzie', 'Nussey', 'Male', 'Swedish']\n",
      "['106-36-3293', 'Martino', 'Tregoning', 'Male', 'Tok Pisin']\n"
     ]
    }
   ],
   "source": [
    "# Read CSV and display rows\n",
    "display_row_count = 0\n",
    "with csv_reader_generator('personal_info.csv', mode='r', separator=',') as rows:\n",
    "    for row in rows:\n",
    "        print(row)\n",
    "        display_row_count += 1\n",
    "        if (display_row_count > 10):\n",
    "            break"
   ]
  },
  {
   "cell_type": "code",
   "execution_count": 7,
   "metadata": {},
   "outputs": [
    {
     "name": "stdout",
     "output_type": "stream",
     "text": [
      "Opening the file cars-2.csv in r mode...\n",
      "Header: ['Car', 'MPG', 'Cylinders', 'Displacement', 'Horsepower', 'Weight', 'Acceleration', 'Model', 'Origin']\n",
      "['Chevrolet Chevelle Malibu', '18.0', '8', '307.0', '130.0', '3504.', '12.0', '70', 'US']\n",
      "['Buick Skylark 320', '15.0', '8', '350.0', '165.0', '3693.', '11.5', '70', 'US']\n",
      "['Plymouth Satellite', '18.0', '8', '318.0', '150.0', '3436.', '11.0', '70', 'US']\n",
      "['AMC Rebel SST', '16.0', '8', '304.0', '150.0', '3433.', '12.0', '70', 'US']\n",
      "['Ford Torino', '17.0', '8', '302.0', '140.0', '3449.', '10.5', '70', 'US']\n",
      "['Ford Galaxie 500', '15.0', '8', '429.0', '198.0', '4341.', '10.0', '70', 'US']\n",
      "['Chevrolet Impala', '14.0', '8', '454.0', '220.0', '4354.', '9.0', '70', 'US']\n",
      "['Plymouth Fury iii', '14.0', '8', '440.0', '215.0', '4312.', '8.5', '70', 'US']\n",
      "['Pontiac Catalina', '14.0', '8', '455.0', '225.0', '4425.', '10.0', '70', 'US']\n",
      "['AMC Ambassador DPL', '15.0', '8', '390.0', '190.0', '3850.', '8.5', '70', 'US']\n",
      "['Citroen DS-21 Pallas', '0', '4', '133.0', '115.0', '3090.', '17.5', '70', 'Europe']\n"
     ]
    }
   ],
   "source": [
    "# Read CSV and display rows\n",
    "display_row_count = 0\n",
    "with csv_reader_generator('cars-2.csv', mode='r', separator=';') as rows:\n",
    "    for row in rows:\n",
    "        print(row)\n",
    "        display_row_count += 1\n",
    "        if (display_row_count > 10):\n",
    "            break"
   ]
  }
 ],
 "metadata": {
  "kernelspec": {
   "display_name": "ocv1_venv",
   "language": "python",
   "name": "python3"
  },
  "language_info": {
   "codemirror_mode": {
    "name": "ipython",
    "version": 3
   },
   "file_extension": ".py",
   "mimetype": "text/x-python",
   "name": "python",
   "nbconvert_exporter": "python",
   "pygments_lexer": "ipython3",
   "version": "3.11.5"
  }
 },
 "nbformat": 4,
 "nbformat_minor": 2
}
